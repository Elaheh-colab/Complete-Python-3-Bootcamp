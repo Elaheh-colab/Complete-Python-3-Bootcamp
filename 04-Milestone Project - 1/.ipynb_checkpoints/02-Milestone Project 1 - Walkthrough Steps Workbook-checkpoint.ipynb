{
 "cells": [
  {
   "cell_type": "markdown",
   "metadata": {},
   "source": [
    "___\n",
    "\n",
    "<a href='https://www.udemy.com/user/joseportilla/'><img src='../Pierian_Data_Logo.png'/></a>\n",
    "___\n",
    "<center><em>Content Copyright by Pierian Data</em></center>"
   ]
  },
  {
   "cell_type": "markdown",
   "metadata": {},
   "source": [
    "# Milestone Project 1: Walkthrough Steps Workbook\n",
    "\n",
    "Below is a set of steps for you to follow to try to create the Tic Tac Toe Milestone Project game!"
   ]
  },
  {
   "cell_type": "markdown",
   "metadata": {},
   "source": [
    "#### Some suggested tools before you get started:\n",
    "To take input from a user:\n",
    "\n",
    "    player1 = input(\"Please pick a marker 'X' or 'O'\")\n",
    "    \n",
    "Note that input() takes in a string. If you need an integer value, use\n",
    "\n",
    "    position = int(input('Please enter a number'))\n",
    "    \n",
    "<br>To clear the screen between moves:\n",
    "\n",
    "    from IPython.display import clear_output\n",
    "    clear_output()\n",
    "    \n",
    "Note that clear_output() will only work in jupyter. To clear the screen in other IDEs, consider:\n",
    "\n",
    "    print('\\n'*100)\n",
    "    \n",
    "This scrolls the previous board up out of view. Now on to the program!"
   ]
  },
  {
   "cell_type": "markdown",
   "metadata": {},
   "source": [
    "**Step 1: Write a function that can print out a board. Set up your board as a list, where each index 1-9 corresponds with a number on a number pad, so you get a 3 by 3 board representation.**"
   ]
  },
  {
   "cell_type": "code",
   "execution_count": 160,
   "metadata": {},
   "outputs": [],
   "source": [
    "from IPython.display import clear_output\n",
    "\n",
    "def display_board(board):\n",
    "    #board = {'1':' ','2':' ','3':' ','4':' ','5': ' ','6':' ','7':' ','8':' ','9':' '}\n",
    "    print(board[1] + '|' + board[2] + '|' + board[3])\n",
    "    print('+++++++')\n",
    "    print(board[4] + '|' + board[5] + '|' + board[6])\n",
    "    print('+++++++')\n",
    "    print(board[7] + '|' + board[8] + '|' + board[9])\n",
    "    pass"
   ]
  },
  {
   "cell_type": "markdown",
   "metadata": {},
   "source": [
    "**TEST Step 1:** run your function on a test version of the board list, and make adjustments as necessary"
   ]
  },
  {
   "cell_type": "code",
   "execution_count": 161,
   "metadata": {},
   "outputs": [
    {
     "name": "stdout",
     "output_type": "stream",
     "text": [
      "X|O|X\n",
      "+++++++\n",
      "O|X|O\n",
      "+++++++\n",
      "X|O|X\n"
     ]
    }
   ],
   "source": [
    "test_board = ['#','X','O','X','O','X','O','X','O','X']\n",
    "\n",
    "display_board(test_board)"
   ]
  },
  {
   "cell_type": "markdown",
   "metadata": {},
   "source": [
    "**Step 2: Write a function that can take in a player input and assign their marker as 'X' or 'O'. Think about using *while* loops to continually ask until you get a correct answer.**"
   ]
  },
  {
   "cell_type": "code",
   "execution_count": 162,
   "metadata": {},
   "outputs": [],
   "source": [
    "def player_input():\n",
    "    accepted_list = ['X','O']\n",
    "    user_input = []\n",
    "    while user_input not in accepted_list:\n",
    "        user_input = input('Please enter your choice:X or O')\n",
    "    return user_input\n",
    "    pass"
   ]
  },
  {
   "cell_type": "markdown",
   "metadata": {},
   "source": [
    "**TEST Step 2:** run the function to make sure it returns the desired output"
   ]
  },
  {
   "cell_type": "code",
   "execution_count": 163,
   "metadata": {},
   "outputs": [
    {
     "name": "stdout",
     "output_type": "stream",
     "text": [
      "Please enter your choice:X or O\n",
      "Please enter your choice:X or OX\n"
     ]
    },
    {
     "data": {
      "text/plain": [
       "'X'"
      ]
     },
     "execution_count": 163,
     "metadata": {},
     "output_type": "execute_result"
    }
   ],
   "source": [
    "player_input()"
   ]
  },
  {
   "cell_type": "markdown",
   "metadata": {},
   "source": [
    "**Step 3: Write a function that takes in the board list object, a marker ('X' or 'O'), and a desired position (number 1-9) and assigns it to the board.**"
   ]
  },
  {
   "cell_type": "code",
   "execution_count": 164,
   "metadata": {},
   "outputs": [],
   "source": [
    "def place_marker(board, marker, position):\n",
    "    board[position] = marker\n",
    "    return board"
   ]
  },
  {
   "cell_type": "markdown",
   "metadata": {},
   "source": [
    "**TEST Step 3:** run the place marker function using test parameters and display the modified board"
   ]
  },
  {
   "cell_type": "code",
   "execution_count": 165,
   "metadata": {},
   "outputs": [
    {
     "name": "stdout",
     "output_type": "stream",
     "text": [
      "X|O|X\n",
      "+++++++\n",
      "O|X|O\n",
      "+++++++\n",
      "X|$|X\n"
     ]
    }
   ],
   "source": [
    "test_board = place_marker(test_board,'$',8)\n",
    "display_board(test_board)"
   ]
  },
  {
   "cell_type": "markdown",
   "metadata": {},
   "source": [
    "**Step 4: Write a function that takes in a board and a mark (X or O) and then checks to see if that mark has won. **"
   ]
  },
  {
   "cell_type": "code",
   "execution_count": 166,
   "metadata": {},
   "outputs": [],
   "source": [
    "def win_check(board, mark):\n",
    "    if board[1] == board[2] == board[3] != ' ':\n",
    "        print('player' +' '+  mark  + ' ' + ' won')\n",
    "        return True\n",
    "    elif board[4] == board[5] == board[6]!= ' ':\n",
    "        print('player' +' '+  mark  + ' ' + ' won')\n",
    "        return True\n",
    "    elif board[7] == board[8] == board[9]!= ' ':\n",
    "        print('player' +' '+  mark  + ' ' + ' won')\n",
    "        return True\n",
    "    elif board[1] == board[4] == board[7]!= ' ':\n",
    "        print('player' +' '+  mark  + ' ' + ' won')\n",
    "        return True \n",
    "    elif board[2] == board[5] == board[8]!= ' ':\n",
    "        print('player' +' '+  mark  + ' ' + ' won')\n",
    "        return True\n",
    "    elif board[3] == board[6] == board[9]!= ' ':\n",
    "        print('player' +' '+  mark  + ' ' + ' won')\n",
    "        return True\n",
    "    elif board[1] == board[5] == board[9]!= ' ':\n",
    "        print('player' +' '+  mark  + ' ' + ' won')\n",
    "        return True\n",
    "    elif board[3] == board[5] == board[7]!= ' ':\n",
    "        print('player' +' '+  mark  + ' ' + ' won')\n",
    "        return True\n",
    "    pass"
   ]
  },
  {
   "cell_type": "markdown",
   "metadata": {},
   "source": [
    "**TEST Step 4:** run the win_check function against our test_board - it should return True"
   ]
  },
  {
   "cell_type": "code",
   "execution_count": 167,
   "metadata": {},
   "outputs": [
    {
     "name": "stdout",
     "output_type": "stream",
     "text": [
      "player X  won\n"
     ]
    },
    {
     "data": {
      "text/plain": [
       "True"
      ]
     },
     "execution_count": 167,
     "metadata": {},
     "output_type": "execute_result"
    }
   ],
   "source": [
    "win_check(test_board,'X')"
   ]
  },
  {
   "cell_type": "markdown",
   "metadata": {},
   "source": [
    "**Step 5: Write a function that uses the random module to randomly decide which player goes first. You may want to lookup random.randint() Return a string of which player went first.**"
   ]
  },
  {
   "cell_type": "code",
   "execution_count": 168,
   "metadata": {},
   "outputs": [],
   "source": [
    "import random \n",
    "from random import randint\n",
    "#def choose_first():\n",
    "#    rand_index = randint(0,1)\n",
    "#    return s[rand_index]\n",
    "#    if rand_index == 0:\n",
    "#        return 'X'\n",
    " #   else:\n",
    "#        return 'O'\n",
    "\n",
    "def choose_first():\n",
    "    s = 'XO'\n",
    "    rand_index = randint(0, len(s)-1)\n",
    "    return s[rand_index]"
   ]
  },
  {
   "cell_type": "code",
   "execution_count": 169,
   "metadata": {},
   "outputs": [
    {
     "data": {
      "text/plain": [
       "'X'"
      ]
     },
     "execution_count": 169,
     "metadata": {},
     "output_type": "execute_result"
    }
   ],
   "source": [
    "x = choose_first()\n",
    "x"
   ]
  },
  {
   "cell_type": "markdown",
   "metadata": {},
   "source": [
    "**Step 6: Write a function that returns a boolean indicating whether a space on the board is freely available.**"
   ]
  },
  {
   "cell_type": "code",
   "execution_count": 170,
   "metadata": {},
   "outputs": [],
   "source": [
    "def space_check(board, position):\n",
    "    if board[position] == ' ':\n",
    "        return True\n",
    "    else:\n",
    "        return False\n",
    "    \n",
    "    pass"
   ]
  },
  {
   "cell_type": "markdown",
   "metadata": {},
   "source": [
    "**Step 7: Write a function that checks if the board is full and returns a boolean value. True if full, False otherwise.**"
   ]
  },
  {
   "cell_type": "code",
   "execution_count": 171,
   "metadata": {},
   "outputs": [],
   "source": [
    "def full_board_check(board):\n",
    "    for value in board:\n",
    "        if value == ' ':\n",
    "            return False\n",
    "    return True\n"
   ]
  },
  {
   "cell_type": "markdown",
   "metadata": {},
   "source": [
    "**Step 8: Write a function that asks for a player's next position (as a number 1-9) and then uses the function from step 6 to check if it's a free position. If it is, then return the position for later use.**"
   ]
  },
  {
   "cell_type": "code",
   "execution_count": 172,
   "metadata": {},
   "outputs": [],
   "source": [
    "def player_choice(board):\n",
    "    next_position = ' '\n",
    "    accepted_range = range(1,10)\n",
    "    digit_check = False\n",
    "    range_check = False\n",
    "    while digit_check == False or range_check == False:\n",
    "        next_position = input('Please enter the next position:')\n",
    "        if next_position.isdigit():\n",
    "            if int(next_position) in accepted_range:\n",
    "                if space_check(board, int(next_position)):\n",
    "                    digit_check = True\n",
    "                    range_check = True\n",
    "                    return int(next_position)\n",
    "                else:\n",
    "                     print('The space is not empty try another guess')\n",
    "            else:\n",
    "                print('Your choice is not in the range(1,9)')\n",
    "        else:\n",
    "            print('Your choice is not a digit')\n",
    "                \n"
   ]
  },
  {
   "cell_type": "markdown",
   "metadata": {},
   "source": [
    "**Step 9: Write a function that asks the player if they want to play again and returns a boolean True if they do want to play again.**"
   ]
  },
  {
   "cell_type": "code",
   "execution_count": 173,
   "metadata": {},
   "outputs": [],
   "source": [
    "def replay():\n",
    "    play_game = ' '\n",
    "    accepted_list = ['Y','N']\n",
    "    \n",
    "    while play_game not in accepted_list:\n",
    "        play_game = input('Do you want to play: Enter Y or N:\\n')\n",
    "        if play_game == 'Y':\n",
    "            return True\n",
    "        elif play_game == 'N':\n",
    "            return False\n",
    "        else:\n",
    "            print('Please Enter Y or N:\\n') \n",
    "        \n",
    "    pass"
   ]
  },
  {
   "cell_type": "markdown",
   "metadata": {
    "collapsed": true
   },
   "source": [
    "**Step 10: Here comes the hard part! Use while loops and the functions you've made to run the game!**"
   ]
  },
  {
   "cell_type": "code",
   "execution_count": 182,
   "metadata": {},
   "outputs": [
    {
     "name": "stdout",
     "output_type": "stream",
     "text": [
      "Welcome to Tic Tac Toe!\n",
      "Player O is going to play first\n",
      " | | \n",
      "+++++++\n",
      " | | \n",
      "+++++++\n",
      " | | \n",
      "Player 1 turn: \n",
      "Please enter the next position:1\n",
      "O| | \n",
      "+++++++\n",
      " | | \n",
      "+++++++\n",
      " | | \n",
      "Player 2 turn: \n",
      "Please enter the next position:2\n",
      "O|X| \n",
      "+++++++\n",
      " | | \n",
      "+++++++\n",
      " | | \n",
      "Player 1 turn: \n",
      "Please enter the next position:3\n",
      "O|X|O\n",
      "+++++++\n",
      " | | \n",
      "+++++++\n",
      " | | \n",
      "Player 2 turn: \n",
      "Please enter the next position:4\n",
      "O|X|O\n",
      "+++++++\n",
      "X| | \n",
      "+++++++\n",
      " | | \n",
      "Player 1 turn: \n",
      "Please enter the next position:5\n",
      "O|X|O\n",
      "+++++++\n",
      "X|O| \n",
      "+++++++\n",
      " | | \n",
      "Player 2 turn: \n",
      "Please enter the next position:9\n",
      "O|X|O\n",
      "+++++++\n",
      "X|O| \n",
      "+++++++\n",
      " | |X\n",
      "Player 1 turn: \n",
      "Please enter the next position:6\n",
      "O|X|O\n",
      "+++++++\n",
      "X|O|O\n",
      "+++++++\n",
      " | |X\n",
      "Player 2 turn: \n",
      "Please enter the next position:7\n",
      "O|X|O\n",
      "+++++++\n",
      "X|O|O\n",
      "+++++++\n",
      "X| |X\n",
      "Player 1 turn: \n",
      "Please enter the next position:8\n",
      "O|X|O\n",
      "+++++++\n",
      "X|O|O\n",
      "+++++++\n",
      "X|O|X\n",
      "Player 2 turn: \n",
      "The board is full,Tie game\n",
      "Do you want to play: Enter Y or N:\n",
      "N\n"
     ]
    }
   ],
   "source": [
    "while True:\n",
    "# Set the game up here\n",
    "    print('Welcome to Tic Tac Toe!')\n",
    "    game_on = True\n",
    "    mark = choose_first()\n",
    "    print('Player ' + mark + ' is going to play first')\n",
    "    board = ['#',' ',' ',' ',' ',' ',' ',' ',' ',' ']\n",
    "    display_board(board)\n",
    "    game_on = full_board_check(board)\n",
    "    #pass\n",
    "    game_on = True\n",
    "    while game_on:\n",
    "    #Player 1 Turn\n",
    "        print('Player 1 turn: ')\n",
    "        if full_board_check(board):\n",
    "            print('The board is full,Tie game')\n",
    "            break\n",
    "        position = player_choice(board)\n",
    "        board = place_marker(board, mark, position)\n",
    "        display_board(board)\n",
    "        winner_check = win_check(board, mark)\n",
    "        if winner_check == True:\n",
    "            break\n",
    "        # Player2's turn.\n",
    "        print('Player 2 turn: ')\n",
    "        if full_board_check(board):\n",
    "            print('The board is full,Tie game')\n",
    "            break\n",
    "        if mark == 'X':\n",
    "            mark = 'O'\n",
    "        else:\n",
    "            mark = 'X' \n",
    "        position = player_choice(board)\n",
    "        board = place_marker(board, mark, position)\n",
    "        display_board(board)\n",
    "        winner_check = win_check(board, mark)\n",
    "        if winner_check == True:\n",
    "            break\n",
    "        if mark == 'X':\n",
    "            mark = 'O'\n",
    "        else:\n",
    "            mark = 'X'\n",
    "                #pass\n",
    "\n",
    "    if not replay():\n",
    "        break\n",
    "        "
   ]
  },
  {
   "cell_type": "markdown",
   "metadata": {
    "collapsed": true
   },
   "source": [
    "## Good Job!"
   ]
  },
  {
   "cell_type": "code",
   "execution_count": null,
   "metadata": {},
   "outputs": [],
   "source": []
  }
 ],
 "metadata": {
  "kernelspec": {
   "display_name": "Python 3",
   "language": "python",
   "name": "python3"
  },
  "language_info": {
   "codemirror_mode": {
    "name": "ipython",
    "version": 3
   },
   "file_extension": ".py",
   "mimetype": "text/x-python",
   "name": "python",
   "nbconvert_exporter": "python",
   "pygments_lexer": "ipython3",
   "version": "3.8.8"
  }
 },
 "nbformat": 4,
 "nbformat_minor": 1
}
